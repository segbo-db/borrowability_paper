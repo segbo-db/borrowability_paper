{
 "cells": [
  {
   "cell_type": "code",
   "execution_count": 1,
   "id": "93d1e5a0",
   "metadata": {},
   "outputs": [],
   "source": [
    "from collections import defaultdict, Counter\n",
    "import pandas as pd"
   ]
  },
  {
   "cell_type": "code",
   "execution_count": 2,
   "id": "ef49e918",
   "metadata": {},
   "outputs": [],
   "source": [
    "def load_cldf_dataset(path_to_values, path_to_languages):\n",
    "    values = pd.read_csv(path_to_values)\n",
    "    languages = pd.read_csv(path_to_languages)\n",
    "    return pd.merge(left = values, right = languages, how=\"left\",\n",
    "                    left_on=\"Language_ID\", right_on=\"ID\")"
   ]
  },
  {
   "cell_type": "code",
   "execution_count": 3,
   "id": "0397e907",
   "metadata": {},
   "outputs": [],
   "source": [
    "def get_frequencies_w_inventory_collapsing(dataset):\n",
    "    glottocode_to_inventory = defaultdict(set)\n",
    "    for row in dataset.itertuples():\n",
    "        if not pd.isnull(row.Language_ID):\n",
    "            glottocode_to_inventory[row.Language_ID].add(row.Value)\n",
    "    print(f'{len(glottocode_to_inventory)} languages')\n",
    "    frequencies_absolute = Counter()\n",
    "    for segments in glottocode_to_inventory.values():\n",
    "        for segment in segments:\n",
    "            frequencies_absolute[segment] += 1\n",
    "    frequencies_relative = {\n",
    "        segment: count / len(glottocode_to_inventory)\n",
    "        for segment, count in frequencies_absolute.items()\n",
    "    }\n",
    "    return frequencies_absolute, frequencies_relative"
   ]
  },
  {
   "cell_type": "code",
   "execution_count": 4,
   "id": "ea848373",
   "metadata": {},
   "outputs": [],
   "source": [
    "segbo = load_cldf_dataset('../data/segbo/cldf/values.csv',\n",
    "                          '../data/segbo/cldf/languages.csv')\n",
    "phoible = load_cldf_dataset('../data/phoible/cldf/values.csv',\n",
    "                            '../data/phoible/cldf/languages.csv')"
   ]
  },
  {
   "cell_type": "code",
   "execution_count": 5,
   "id": "23578f00",
   "metadata": {},
   "outputs": [],
   "source": [
    "import re\n",
    "gltc_pattern = re.compile(r'[a-z]{4,4}\\d{4,4}')"
   ]
  },
  {
   "cell_type": "code",
   "execution_count": 6,
   "id": "029b670e",
   "metadata": {},
   "outputs": [
    {
     "data": {
      "text/plain": [
       "array(['l1'], dtype=object)"
      ]
     },
     "execution_count": 6,
     "metadata": {},
     "output_type": "execute_result"
    }
   ],
   "source": [
    "# A weird id?\n",
    "phoible.loc[ \n",
    "    phoible.Language_ID.map(lambda lid: gltc_pattern.match(lid) is None) \n",
    "].Language_ID.unique()"
   ]
  },
  {
   "cell_type": "code",
   "execution_count": 7,
   "id": "36da1cfa",
   "metadata": {},
   "outputs": [
    {
     "data": {
      "text/plain": [
       "2177"
      ]
     },
     "execution_count": 7,
     "metadata": {},
     "output_type": "execute_result"
    }
   ],
   "source": [
    "n_phoible_inventories = len(phoible.Language_ID.unique())\n",
    "n_phoible_inventories"
   ]
  },
  {
   "cell_type": "code",
   "execution_count": 8,
   "id": "150e318c",
   "metadata": {},
   "outputs": [
    {
     "data": {
      "text/plain": [
       "498"
      ]
     },
     "execution_count": 8,
     "metadata": {},
     "output_type": "execute_result"
    }
   ],
   "source": [
    "len(segbo.Language_ID.unique())"
   ]
  },
  {
   "cell_type": "code",
   "execution_count": 9,
   "id": "02bf1e56",
   "metadata": {},
   "outputs": [
    {
     "data": {
      "text/plain": [
       "199"
      ]
     },
     "execution_count": 9,
     "metadata": {},
     "output_type": "execute_result"
    }
   ],
   "source": [
    "len(set(segbo.Language_ID) - set(phoible.Language_ID))"
   ]
  },
  {
   "cell_type": "code",
   "execution_count": 10,
   "id": "1c4d56a8",
   "metadata": {},
   "outputs": [
    {
     "name": "stdout",
     "output_type": "stream",
     "text": [
      "2177 languages\n",
      "m: 2112 -> 0.9701423977951309\n",
      "i: 2076 -> 0.9536058796508957\n",
      "k: 2004 -> 0.9205328433624254\n",
      "j: 1993 -> 0.915480018373909\n",
      "u: 1992 -> 0.9150206706476803\n",
      "a: 1983 -> 0.9108865411116215\n",
      "p: 1895 -> 0.870463941203491\n",
      "w: 1883 -> 0.864951768488746\n",
      "n: 1845 -> 0.8474965548920533\n",
      "t: 1656 -> 0.7606798346348186\n"
     ]
    }
   ],
   "source": [
    "(\n",
    "    phoible_frequencies_absolute, \n",
    "    phoible_frequencies_relative\n",
    ") = get_frequencies_w_inventory_collapsing(phoible)\n",
    "\n",
    "top_10_phoible = phoible_frequencies_absolute.most_common(10)\n",
    "for el, freq in top_10_phoible:\n",
    "    print(f'{el}: {freq} -> {phoible_frequencies_relative[el]}')"
   ]
  },
  {
   "cell_type": "code",
   "execution_count": 11,
   "id": "92cc4dba",
   "metadata": {},
   "outputs": [],
   "source": [
    "# Exclude SEGBO languages not found in PHOIBLE\n",
    "phoible_langs = set(phoible.Language_ID)\n",
    "segbo = segbo.loc[ segbo.Language_ID.map(lambda gltc: gltc in phoible_langs) ]"
   ]
  },
  {
   "cell_type": "code",
   "execution_count": 12,
   "id": "5cca740c",
   "metadata": {},
   "outputs": [
    {
     "data": {
      "text/plain": [
       "299"
      ]
     },
     "execution_count": 12,
     "metadata": {},
     "output_type": "execute_result"
    }
   ],
   "source": [
    "len(segbo.Language_ID.unique())"
   ]
  },
  {
   "cell_type": "code",
   "execution_count": 13,
   "id": "a94a303b",
   "metadata": {},
   "outputs": [
    {
     "data": {
      "text/plain": [
       "0"
      ]
     },
     "execution_count": 13,
     "metadata": {},
     "output_type": "execute_result"
    }
   ],
   "source": [
    "len(set(segbo.Language_ID) - set(phoible.Language_ID))"
   ]
  },
  {
   "cell_type": "code",
   "execution_count": 14,
   "id": "c770f0f2",
   "metadata": {},
   "outputs": [
    {
     "name": "stdout",
     "output_type": "stream",
     "text": [
      "299 languages\n",
      "f: 101 -> 0.3377926421404682\n",
      "ɡ: 52 -> 0.17391304347826086\n",
      "b: 41 -> 0.13712374581939799\n",
      "z: 38 -> 0.12709030100334448\n",
      "d: 38 -> 0.12709030100334448\n",
      "h: 34 -> 0.11371237458193979\n",
      "d̠ʒ: 32 -> 0.10702341137123746\n",
      "ʃ: 32 -> 0.10702341137123746\n",
      "v: 31 -> 0.10367892976588629\n",
      "p: 31 -> 0.10367892976588629\n"
     ]
    }
   ],
   "source": [
    "(\n",
    "    segbo_frequencies_absolute, \n",
    "    segbo_frequencies_relative\n",
    ") = get_frequencies_w_inventory_collapsing(segbo)\n",
    "top_10_segbo = segbo_frequencies_absolute.most_common(10)\n",
    "for el, freq in top_10_segbo:\n",
    "    print(f'{el}: {freq} -> {segbo_frequencies_relative[el]}')"
   ]
  },
  {
   "cell_type": "code",
   "execution_count": 15,
   "id": "780b08e6",
   "metadata": {},
   "outputs": [],
   "source": [
    "# However, we compute SEGBO relative frequencies based on PHOIBLE\n",
    "segbo_frequencies_relative = {\n",
    "    segment: count_segbo / n_phoible_inventories\n",
    "    for segment, count_segbo in segbo_frequencies_absolute.items()\n",
    "}"
   ]
  },
  {
   "cell_type": "code",
   "execution_count": 16,
   "id": "f16f6dbb",
   "metadata": {},
   "outputs": [
    {
     "name": "stdout",
     "output_type": "stream",
     "text": [
      "ʕ̞ 1 0\n",
      "ʊai 1 0\n",
      "ɸʷ 1 1\n",
      "tsʲʰ 1 1\n",
      "pʷʰ 1 1\n",
      "d̠̤ʒ̤ 1 1\n",
      "ɹ̤ 1 0\n",
      "uə̯ 1 1\n",
      "ɨə̯ 1 0\n",
      "l̪ˤ 1 1\n",
      "n̪ˤ 1 1\n",
      "n̺d̺z̺ 1 0\n",
      "ðˠ 1 1\n"
     ]
    }
   ],
   "source": [
    "# Absolute frequencies in SEGBO are sometimes higher than in PHOIBLE, which\n",
    "# is problematic for statistics. We create two versions of absolute PHOIBLE\n",
    "# frequencies: one where the values are greater than or equal than in SEGBO and\n",
    "# one where they are strictly greater (through Laplace smoothing).\n",
    "phoible_greater_or_equal = {}\n",
    "phoible_strictly_greater = {}\n",
    "for segment, count_segbo in segbo_frequencies_absolute.items():\n",
    "    if count_segbo >= phoible_frequencies_absolute[segment]:\n",
    "        print(segment, count_segbo, phoible_frequencies_absolute[segment])\n",
    "        phoible_greater_or_equal[segment] = count_segbo\n",
    "        phoible_strictly_greater[segment] = count_segbo + 1\n",
    "    else:\n",
    "        phoible_greater_or_equal[segment] = phoible_frequencies_absolute[\n",
    "            segment]\n",
    "        phoible_strictly_greater[segment] = phoible_frequencies_absolute[\n",
    "            segment] + 1"
   ]
  },
  {
   "cell_type": "code",
   "execution_count": 17,
   "id": "89fa2987",
   "metadata": {},
   "outputs": [
    {
     "name": "stdout",
     "output_type": "stream",
     "text": [
      "m: 0.9701423977951309, 0.9706017455213597\n",
      "k: 0.9205328433624254, 0.9209921910886542\n",
      "j: 0.915480018373909, 0.9159393661001378\n",
      "u: 0.9150206706476803, 0.915480018373909\n",
      "a: 0.9108865411116215, 0.9113458888378503\n",
      "p: 0.870463941203491, 0.8709232889297198\n",
      "w: 0.864951768488746, 0.8654111162149747\n",
      "n: 0.8474965548920533, 0.847955902618282\n",
      "t: 0.7606798346348186, 0.7611391823610473\n",
      "l: 0.7266881028938906, 0.7271474506201194\n"
     ]
    }
   ],
   "source": [
    "# Now we need to recompute PHOIBLE relative frequencies\n",
    "phoible_freqs_relative = {\n",
    "    segment: count / n_phoible_inventories\n",
    "    for segment, count in phoible_greater_or_equal.items()\n",
    "}\n",
    "phoible_freqs_relative_laplace = {\n",
    "    segment: count / n_phoible_inventories\n",
    "    for segment, count in phoible_strictly_greater.items()\n",
    "}\n",
    "for segment, f_s in sorted(phoible_freqs_relative.items(), \n",
    "                           key=lambda el: el[1], reverse=True)[:10]:\n",
    "    print(f'{segment}: {f_s}, {phoible_freqs_relative_laplace[segment]}')"
   ]
  },
  {
   "cell_type": "code",
   "execution_count": 18,
   "id": "441f9437",
   "metadata": {},
   "outputs": [],
   "source": [
    "# Now we can compute borrowability scores using Eisen's formula with normalisation\n",
    "borrowability_scores = {}\n",
    "borrowability_scores_laplace = {}\n",
    "for segment in segbo_frequencies_relative:\n",
    "    borrowability_scores[segment] = segbo_frequencies_relative[segment] / (\n",
    "            phoible_freqs_relative[segment] - \n",
    "            phoible_freqs_relative[segment]**2\n",
    "        ) / 6\n",
    "    borrowability_scores_laplace[segment] = segbo_frequencies_relative[\n",
    "        segment] / (\n",
    "            phoible_freqs_relative_laplace[segment] - \n",
    "            phoible_freqs_relative_laplace[segment]**2\n",
    "        ) / 6"
   ]
  },
  {
   "cell_type": "code",
   "execution_count": 19,
   "id": "714a68dc",
   "metadata": {},
   "outputs": [
    {
     "data": {
      "text/plain": [
       "[('f', 0.03131315979556449),\n",
       " ('p', 0.02104798617738605),\n",
       " ('ɡ', 0.016305565878208066),\n",
       " ('b', 0.013561760809053231),\n",
       " ('z', 0.013522755878997114),\n",
       " ('ʒ', 0.013063819433761137),\n",
       " ('d̠ʒ', 0.011803296464975062),\n",
       " ('v', 0.01168581778387289),\n",
       " ('d', 0.011637518709837154),\n",
       " ('x', 0.010997585279851278),\n",
       " ('h', 0.010670627101530257),\n",
       " ('ʃ', 0.010643297368815065),\n",
       " ('l', 0.009251134081951362),\n",
       " ('r', 0.008881549145425395),\n",
       " ('t̠ʃ', 0.008795380852284467),\n",
       " ('o', 0.008581466617976598),\n",
       " ('ɾ', 0.008309477460971793),\n",
       " ('s', 0.007337184934133851),\n",
       " ('ɣ', 0.007197289032151416),\n",
       " ('ts', 0.006746449553090329),\n",
       " ('e', 0.006693107052819283),\n",
       " ('ŋ', 0.004060536878702419),\n",
       " ('ʔ', 0.0032222464963804856)]"
      ]
     },
     "execution_count": 19,
     "metadata": {},
     "output_type": "execute_result"
    }
   ],
   "source": [
    "borrowability_scores = dict(\n",
    "    filter(lambda el: segbo_frequencies_absolute[el[0]] >= 10, \n",
    "           borrowability_scores.items()))\n",
    "sorted(borrowability_scores.items(), key=lambda el: el[1], reverse=True)"
   ]
  },
  {
   "cell_type": "code",
   "execution_count": 20,
   "id": "101d00a6",
   "metadata": {},
   "outputs": [
    {
     "data": {
      "text/plain": [
       "[('f', 0.03130673961230827),\n",
       " ('p', 0.021111749277995504),\n",
       " ('ɡ', 0.016310273841550427),\n",
       " ('b', 0.013569108701852064),\n",
       " ('z', 0.013511994945782806),\n",
       " ('ʒ', 0.013031529913692712),\n",
       " ('d̠ʒ', 0.011792555035534754),\n",
       " ('v', 0.011674392278401571),\n",
       " ('d', 0.011637695520768798),\n",
       " ('x', 0.010977107914592443),\n",
       " ('h', 0.010673766167544297),\n",
       " ('ʃ', 0.010637329722406982),\n",
       " ('l', 0.009260854491429348),\n",
       " ('r', 0.008881714076700149),\n",
       " ('t̠ʃ', 0.008792762227876732),\n",
       " ('o', 0.008587283404808561),\n",
       " ('ɾ', 0.008301302583813794),\n",
       " ('s', 0.00734376370419846),\n",
       " ('ɣ', 0.007179226740888285),\n",
       " ('ts', 0.0067375392662055306),\n",
       " ('e', 0.006698231574883583),\n",
       " ('ŋ', 0.004063083240014931),\n",
       " ('ʔ', 0.0032208620725367137)]"
      ]
     },
     "execution_count": 20,
     "metadata": {},
     "output_type": "execute_result"
    }
   ],
   "source": [
    "borrowability_scores_laplace = dict(\n",
    "    filter(lambda el: segbo_frequencies_absolute[el[0]] >= 10, \n",
    "           borrowability_scores_laplace.items()))\n",
    "sorted(borrowability_scores_laplace.items(), key=lambda el: el[1], reverse=True)"
   ]
  }
 ],
 "metadata": {
  "kernelspec": {
   "display_name": "Python 3 (ipykernel)",
   "language": "python",
   "name": "python3"
  },
  "language_info": {
   "codemirror_mode": {
    "name": "ipython",
    "version": 3
   },
   "file_extension": ".py",
   "mimetype": "text/x-python",
   "name": "python",
   "nbconvert_exporter": "python",
   "pygments_lexer": "ipython3",
   "version": "3.9.12"
  }
 },
 "nbformat": 4,
 "nbformat_minor": 5
}
